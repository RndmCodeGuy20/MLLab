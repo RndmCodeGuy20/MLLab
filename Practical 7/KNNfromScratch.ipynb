{
 "cells": [
  {
   "cell_type": "code",
   "execution_count": 2,
   "metadata": {
    "collapsed": true
   },
   "outputs": [],
   "source": [
    "import numpy as np\n",
    "import pandas as pd\n",
    "import matplotlib.pyplot as plt\n",
    "import seaborn as sns"
   ]
  },
  {
   "cell_type": "code",
   "execution_count": 3,
   "outputs": [
    {
     "data": {
      "text/plain": "      User ID  Gender  Age  EstimatedSalary  Purchased\n0    15624510    Male   19            19000          0\n1    15810944    Male   35            20000          0\n2    15668575  Female   26            43000          0\n3    15603246  Female   27            57000          0\n4    15804002    Male   19            76000          0\n..        ...     ...  ...              ...        ...\n395  15691863  Female   46            41000          1\n396  15706071    Male   51            23000          1\n397  15654296  Female   50            20000          1\n398  15755018    Male   36            33000          0\n399  15594041  Female   49            36000          1\n\n[400 rows x 5 columns]",
      "text/html": "<div>\n<style scoped>\n    .dataframe tbody tr th:only-of-type {\n        vertical-align: middle;\n    }\n\n    .dataframe tbody tr th {\n        vertical-align: top;\n    }\n\n    .dataframe thead th {\n        text-align: right;\n    }\n</style>\n<table border=\"1\" class=\"dataframe\">\n  <thead>\n    <tr style=\"text-align: right;\">\n      <th></th>\n      <th>User ID</th>\n      <th>Gender</th>\n      <th>Age</th>\n      <th>EstimatedSalary</th>\n      <th>Purchased</th>\n    </tr>\n  </thead>\n  <tbody>\n    <tr>\n      <th>0</th>\n      <td>15624510</td>\n      <td>Male</td>\n      <td>19</td>\n      <td>19000</td>\n      <td>0</td>\n    </tr>\n    <tr>\n      <th>1</th>\n      <td>15810944</td>\n      <td>Male</td>\n      <td>35</td>\n      <td>20000</td>\n      <td>0</td>\n    </tr>\n    <tr>\n      <th>2</th>\n      <td>15668575</td>\n      <td>Female</td>\n      <td>26</td>\n      <td>43000</td>\n      <td>0</td>\n    </tr>\n    <tr>\n      <th>3</th>\n      <td>15603246</td>\n      <td>Female</td>\n      <td>27</td>\n      <td>57000</td>\n      <td>0</td>\n    </tr>\n    <tr>\n      <th>4</th>\n      <td>15804002</td>\n      <td>Male</td>\n      <td>19</td>\n      <td>76000</td>\n      <td>0</td>\n    </tr>\n    <tr>\n      <th>...</th>\n      <td>...</td>\n      <td>...</td>\n      <td>...</td>\n      <td>...</td>\n      <td>...</td>\n    </tr>\n    <tr>\n      <th>395</th>\n      <td>15691863</td>\n      <td>Female</td>\n      <td>46</td>\n      <td>41000</td>\n      <td>1</td>\n    </tr>\n    <tr>\n      <th>396</th>\n      <td>15706071</td>\n      <td>Male</td>\n      <td>51</td>\n      <td>23000</td>\n      <td>1</td>\n    </tr>\n    <tr>\n      <th>397</th>\n      <td>15654296</td>\n      <td>Female</td>\n      <td>50</td>\n      <td>20000</td>\n      <td>1</td>\n    </tr>\n    <tr>\n      <th>398</th>\n      <td>15755018</td>\n      <td>Male</td>\n      <td>36</td>\n      <td>33000</td>\n      <td>0</td>\n    </tr>\n    <tr>\n      <th>399</th>\n      <td>15594041</td>\n      <td>Female</td>\n      <td>49</td>\n      <td>36000</td>\n      <td>1</td>\n    </tr>\n  </tbody>\n</table>\n<p>400 rows × 5 columns</p>\n</div>"
     },
     "execution_count": 3,
     "metadata": {},
     "output_type": "execute_result"
    }
   ],
   "source": [
    "suv_data = pd.read_csv('./Assets/suv_data.csv')\n",
    "\n",
    "suv_data"
   ],
   "metadata": {
    "collapsed": false
   }
  },
  {
   "cell_type": "code",
   "execution_count": 168,
   "outputs": [],
   "source": [
    "Required_Data = suv_data.drop([\"User ID\", \"Gender\"], axis=1)"
   ],
   "metadata": {
    "collapsed": false
   }
  },
  {
   "cell_type": "code",
   "execution_count": 169,
   "outputs": [
    {
     "data": {
      "text/plain": "     Age  EstimatedSalary  Purchased\n0     19            19000          0\n1     35            20000          0\n2     26            43000          0\n3     27            57000          0\n4     19            76000          0\n..   ...              ...        ...\n395   46            41000          1\n396   51            23000          1\n397   50            20000          1\n398   36            33000          0\n399   49            36000          1\n\n[400 rows x 3 columns]",
      "text/html": "<div>\n<style scoped>\n    .dataframe tbody tr th:only-of-type {\n        vertical-align: middle;\n    }\n\n    .dataframe tbody tr th {\n        vertical-align: top;\n    }\n\n    .dataframe thead th {\n        text-align: right;\n    }\n</style>\n<table border=\"1\" class=\"dataframe\">\n  <thead>\n    <tr style=\"text-align: right;\">\n      <th></th>\n      <th>Age</th>\n      <th>EstimatedSalary</th>\n      <th>Purchased</th>\n    </tr>\n  </thead>\n  <tbody>\n    <tr>\n      <th>0</th>\n      <td>19</td>\n      <td>19000</td>\n      <td>0</td>\n    </tr>\n    <tr>\n      <th>1</th>\n      <td>35</td>\n      <td>20000</td>\n      <td>0</td>\n    </tr>\n    <tr>\n      <th>2</th>\n      <td>26</td>\n      <td>43000</td>\n      <td>0</td>\n    </tr>\n    <tr>\n      <th>3</th>\n      <td>27</td>\n      <td>57000</td>\n      <td>0</td>\n    </tr>\n    <tr>\n      <th>4</th>\n      <td>19</td>\n      <td>76000</td>\n      <td>0</td>\n    </tr>\n    <tr>\n      <th>...</th>\n      <td>...</td>\n      <td>...</td>\n      <td>...</td>\n    </tr>\n    <tr>\n      <th>395</th>\n      <td>46</td>\n      <td>41000</td>\n      <td>1</td>\n    </tr>\n    <tr>\n      <th>396</th>\n      <td>51</td>\n      <td>23000</td>\n      <td>1</td>\n    </tr>\n    <tr>\n      <th>397</th>\n      <td>50</td>\n      <td>20000</td>\n      <td>1</td>\n    </tr>\n    <tr>\n      <th>398</th>\n      <td>36</td>\n      <td>33000</td>\n      <td>0</td>\n    </tr>\n    <tr>\n      <th>399</th>\n      <td>49</td>\n      <td>36000</td>\n      <td>1</td>\n    </tr>\n  </tbody>\n</table>\n<p>400 rows × 3 columns</p>\n</div>"
     },
     "execution_count": 169,
     "metadata": {},
     "output_type": "execute_result"
    }
   ],
   "source": [
    "Required_Data"
   ],
   "metadata": {
    "collapsed": false
   }
  },
  {
   "cell_type": "code",
   "execution_count": 72,
   "outputs": [],
   "source": [
    "X = suv_data[[\"Age\", \"EstimatedSalary\"]]\n",
    "Y = suv_data[\"Purchased\"]"
   ],
   "metadata": {
    "collapsed": false
   }
  },
  {
   "cell_type": "code",
   "execution_count": 9,
   "outputs": [
    {
     "data": {
      "text/plain": "   Age  EstimatedSalary\n0   19            19000\n1   35            20000\n2   26            43000\n3   27            57000\n4   19            76000",
      "text/html": "<div>\n<style scoped>\n    .dataframe tbody tr th:only-of-type {\n        vertical-align: middle;\n    }\n\n    .dataframe tbody tr th {\n        vertical-align: top;\n    }\n\n    .dataframe thead th {\n        text-align: right;\n    }\n</style>\n<table border=\"1\" class=\"dataframe\">\n  <thead>\n    <tr style=\"text-align: right;\">\n      <th></th>\n      <th>Age</th>\n      <th>EstimatedSalary</th>\n    </tr>\n  </thead>\n  <tbody>\n    <tr>\n      <th>0</th>\n      <td>19</td>\n      <td>19000</td>\n    </tr>\n    <tr>\n      <th>1</th>\n      <td>35</td>\n      <td>20000</td>\n    </tr>\n    <tr>\n      <th>2</th>\n      <td>26</td>\n      <td>43000</td>\n    </tr>\n    <tr>\n      <th>3</th>\n      <td>27</td>\n      <td>57000</td>\n    </tr>\n    <tr>\n      <th>4</th>\n      <td>19</td>\n      <td>76000</td>\n    </tr>\n  </tbody>\n</table>\n</div>"
     },
     "execution_count": 9,
     "metadata": {},
     "output_type": "execute_result"
    }
   ],
   "source": [
    "X.head()"
   ],
   "metadata": {
    "collapsed": false
   }
  },
  {
   "cell_type": "code",
   "execution_count": 73,
   "outputs": [
    {
     "data": {
      "text/plain": "0    0\n1    0\n2    0\n3    0\n4    0\nName: Purchased, dtype: int64"
     },
     "execution_count": 73,
     "metadata": {},
     "output_type": "execute_result"
    }
   ],
   "source": [
    "Y.head()"
   ],
   "metadata": {
    "collapsed": false
   }
  },
  {
   "cell_type": "code",
   "execution_count": 19,
   "outputs": [],
   "source": [
    "Xc = X.copy()"
   ],
   "metadata": {
    "collapsed": false
   }
  },
  {
   "cell_type": "code",
   "execution_count": 20,
   "outputs": [
    {
     "data": {
      "text/plain": "          Age  EstimatedSalary\n0    0.316667         0.126667\n1    0.583333         0.133333\n2    0.433333         0.286667\n3    0.450000         0.380000\n4    0.316667         0.506667\n..        ...              ...\n395  0.766667         0.273333\n396  0.850000         0.153333\n397  0.833333         0.133333\n398  0.600000         0.220000\n399  0.816667         0.240000\n\n[400 rows x 2 columns]",
      "text/html": "<div>\n<style scoped>\n    .dataframe tbody tr th:only-of-type {\n        vertical-align: middle;\n    }\n\n    .dataframe tbody tr th {\n        vertical-align: top;\n    }\n\n    .dataframe thead th {\n        text-align: right;\n    }\n</style>\n<table border=\"1\" class=\"dataframe\">\n  <thead>\n    <tr style=\"text-align: right;\">\n      <th></th>\n      <th>Age</th>\n      <th>EstimatedSalary</th>\n    </tr>\n  </thead>\n  <tbody>\n    <tr>\n      <th>0</th>\n      <td>0.316667</td>\n      <td>0.126667</td>\n    </tr>\n    <tr>\n      <th>1</th>\n      <td>0.583333</td>\n      <td>0.133333</td>\n    </tr>\n    <tr>\n      <th>2</th>\n      <td>0.433333</td>\n      <td>0.286667</td>\n    </tr>\n    <tr>\n      <th>3</th>\n      <td>0.450000</td>\n      <td>0.380000</td>\n    </tr>\n    <tr>\n      <th>4</th>\n      <td>0.316667</td>\n      <td>0.506667</td>\n    </tr>\n    <tr>\n      <th>...</th>\n      <td>...</td>\n      <td>...</td>\n    </tr>\n    <tr>\n      <th>395</th>\n      <td>0.766667</td>\n      <td>0.273333</td>\n    </tr>\n    <tr>\n      <th>396</th>\n      <td>0.850000</td>\n      <td>0.153333</td>\n    </tr>\n    <tr>\n      <th>397</th>\n      <td>0.833333</td>\n      <td>0.133333</td>\n    </tr>\n    <tr>\n      <th>398</th>\n      <td>0.600000</td>\n      <td>0.220000</td>\n    </tr>\n    <tr>\n      <th>399</th>\n      <td>0.816667</td>\n      <td>0.240000</td>\n    </tr>\n  </tbody>\n</table>\n<p>400 rows × 2 columns</p>\n</div>"
     },
     "execution_count": 20,
     "metadata": {},
     "output_type": "execute_result"
    }
   ],
   "source": [
    "Xc[\"Age\"] = Xc[\"Age\"] / max(Xc[\"Age\"])\n",
    "Xc[\"EstimatedSalary\"] = Xc[\"EstimatedSalary\"] / max(Xc[\"EstimatedSalary\"])\n",
    "\n",
    "Xc"
   ],
   "metadata": {
    "collapsed": false
   }
  },
  {
   "cell_type": "code",
   "execution_count": 138,
   "outputs": [],
   "source": [
    "def calculateDist(x, y, X_Param, k):\n",
    "    X_Param[\"Age\"] = X_Param[\"Age\"] / max(X_Param[\"Age\"])\n",
    "    X_Param[\"EstimatedSalary\"] = X_Param[\"EstimatedSalary\"] / max(X_Param[\"EstimatedSalary\"])\n",
    "    x = x / max(X[\"Age\"])\n",
    "    y = y / max(X[\"EstimatedSalary\"])\n",
    "    X_Param = X_Param.assign(Distance=lambda C: np.sqrt((C[\"Age\"] - x)**2 + (C[\"EstimatedSalary\"] - y)**2))\n",
    "    return X_Param.sort_values(by=\"Distance\").head(n=k)"
   ],
   "metadata": {
    "collapsed": false
   }
  },
  {
   "cell_type": "code",
   "execution_count": 133,
   "outputs": [
    {
     "data": {
      "text/plain": "          Age  EstimatedSalary  Distance\n0    0.316667         0.126667  0.000000\n104  0.316667         0.140000  0.013333\n72   0.333333         0.153333  0.031447\n32   0.350000         0.106667  0.038873\n139  0.316667         0.166667  0.040000",
      "text/html": "<div>\n<style scoped>\n    .dataframe tbody tr th:only-of-type {\n        vertical-align: middle;\n    }\n\n    .dataframe tbody tr th {\n        vertical-align: top;\n    }\n\n    .dataframe thead th {\n        text-align: right;\n    }\n</style>\n<table border=\"1\" class=\"dataframe\">\n  <thead>\n    <tr style=\"text-align: right;\">\n      <th></th>\n      <th>Age</th>\n      <th>EstimatedSalary</th>\n      <th>Distance</th>\n    </tr>\n  </thead>\n  <tbody>\n    <tr>\n      <th>0</th>\n      <td>0.316667</td>\n      <td>0.126667</td>\n      <td>0.000000</td>\n    </tr>\n    <tr>\n      <th>104</th>\n      <td>0.316667</td>\n      <td>0.140000</td>\n      <td>0.013333</td>\n    </tr>\n    <tr>\n      <th>72</th>\n      <td>0.333333</td>\n      <td>0.153333</td>\n      <td>0.031447</td>\n    </tr>\n    <tr>\n      <th>32</th>\n      <td>0.350000</td>\n      <td>0.106667</td>\n      <td>0.038873</td>\n    </tr>\n    <tr>\n      <th>139</th>\n      <td>0.316667</td>\n      <td>0.166667</td>\n      <td>0.040000</td>\n    </tr>\n  </tbody>\n</table>\n</div>"
     },
     "execution_count": 133,
     "metadata": {},
     "output_type": "execute_result"
    }
   ],
   "source": [
    "calculateDist(19,19000, Xc)"
   ],
   "metadata": {
    "collapsed": false
   }
  },
  {
   "cell_type": "code",
   "execution_count": 211,
   "outputs": [
    {
     "data": {
      "text/plain": "          Age  EstimatedSalary  Purchased  Distance\n7    0.533333         1.000000          1  0.000000\n103  0.550000         0.993333          1  0.017951\n168  0.483333         0.986667          1  0.051747\n230  0.583333         0.980000          1  0.053852",
      "text/html": "<div>\n<style scoped>\n    .dataframe tbody tr th:only-of-type {\n        vertical-align: middle;\n    }\n\n    .dataframe tbody tr th {\n        vertical-align: top;\n    }\n\n    .dataframe thead th {\n        text-align: right;\n    }\n</style>\n<table border=\"1\" class=\"dataframe\">\n  <thead>\n    <tr style=\"text-align: right;\">\n      <th></th>\n      <th>Age</th>\n      <th>EstimatedSalary</th>\n      <th>Purchased</th>\n      <th>Distance</th>\n    </tr>\n  </thead>\n  <tbody>\n    <tr>\n      <th>7</th>\n      <td>0.533333</td>\n      <td>1.000000</td>\n      <td>1</td>\n      <td>0.000000</td>\n    </tr>\n    <tr>\n      <th>103</th>\n      <td>0.550000</td>\n      <td>0.993333</td>\n      <td>1</td>\n      <td>0.017951</td>\n    </tr>\n    <tr>\n      <th>168</th>\n      <td>0.483333</td>\n      <td>0.986667</td>\n      <td>1</td>\n      <td>0.051747</td>\n    </tr>\n    <tr>\n      <th>230</th>\n      <td>0.583333</td>\n      <td>0.980000</td>\n      <td>1</td>\n      <td>0.053852</td>\n    </tr>\n  </tbody>\n</table>\n</div>"
     },
     "execution_count": 211,
     "metadata": {},
     "output_type": "execute_result"
    }
   ],
   "source": [
    "calculateDist(32,150000, Required_Data,4)"
   ],
   "metadata": {
    "collapsed": false
   }
  },
  {
   "cell_type": "code",
   "execution_count": 214,
   "outputs": [],
   "source": [
    "rez = Y.loc[calculateDist(19,19000, Xc, 5).index]"
   ],
   "metadata": {
    "collapsed": false
   }
  },
  {
   "cell_type": "code",
   "execution_count": 224,
   "outputs": [],
   "source": [
    "def classify(rez):\n",
    "    yes = 0\n",
    "    no = 0\n",
    "    for i in rez.values:\n",
    "        if i == 1:\n",
    "            yes += 1\n",
    "        elif i == 0:\n",
    "            no += 1\n",
    "    # print(no, yes)\n",
    "    return np.argmax([no, yes])"
   ],
   "metadata": {
    "collapsed": false
   }
  },
  {
   "cell_type": "code",
   "execution_count": 220,
   "outputs": [
    {
     "name": "stdout",
     "output_type": "stream",
     "text": [
      "yes\n"
     ]
    }
   ],
   "source": [
    "purchased = [\"yes\", \"no\"]\n",
    "\n",
    "print(purchased[np.argmax(c)])"
   ],
   "metadata": {
    "collapsed": false
   }
  },
  {
   "cell_type": "code",
   "execution_count": 106,
   "outputs": [
    {
     "data": {
      "text/plain": "0    0\n1    0\n2    0\n3    0\n4    0\nName: Purchased, dtype: int64"
     },
     "execution_count": 106,
     "metadata": {},
     "output_type": "execute_result"
    }
   ],
   "source": [
    "Y.head()"
   ],
   "metadata": {
    "collapsed": false
   }
  },
  {
   "cell_type": "code",
   "execution_count": 107,
   "outputs": [
    {
     "data": {
      "text/plain": "395    1\n396    1\n397    1\n398    0\n399    1\nName: Purchased, dtype: int64"
     },
     "execution_count": 107,
     "metadata": {},
     "output_type": "execute_result"
    }
   ],
   "source": [
    "Y.tail()"
   ],
   "metadata": {
    "collapsed": false
   }
  },
  {
   "cell_type": "code",
   "execution_count": 113,
   "outputs": [
    {
     "data": {
      "text/plain": "     Age  EstimatedSalary  Purchased\n179   31            34000          0\n204   58           101000          1\n18    46            28000          1\n233   49            86000          1\n217   40            78000          0\n365   59            29000          1\n286   37            62000          0\n250   44            39000          0\n288   41            79000          0\n297   43           112000          1",
      "text/html": "<div>\n<style scoped>\n    .dataframe tbody tr th:only-of-type {\n        vertical-align: middle;\n    }\n\n    .dataframe tbody tr th {\n        vertical-align: top;\n    }\n\n    .dataframe thead th {\n        text-align: right;\n    }\n</style>\n<table border=\"1\" class=\"dataframe\">\n  <thead>\n    <tr style=\"text-align: right;\">\n      <th></th>\n      <th>Age</th>\n      <th>EstimatedSalary</th>\n      <th>Purchased</th>\n    </tr>\n  </thead>\n  <tbody>\n    <tr>\n      <th>179</th>\n      <td>31</td>\n      <td>34000</td>\n      <td>0</td>\n    </tr>\n    <tr>\n      <th>204</th>\n      <td>58</td>\n      <td>101000</td>\n      <td>1</td>\n    </tr>\n    <tr>\n      <th>18</th>\n      <td>46</td>\n      <td>28000</td>\n      <td>1</td>\n    </tr>\n    <tr>\n      <th>233</th>\n      <td>49</td>\n      <td>86000</td>\n      <td>1</td>\n    </tr>\n    <tr>\n      <th>217</th>\n      <td>40</td>\n      <td>78000</td>\n      <td>0</td>\n    </tr>\n    <tr>\n      <th>365</th>\n      <td>59</td>\n      <td>29000</td>\n      <td>1</td>\n    </tr>\n    <tr>\n      <th>286</th>\n      <td>37</td>\n      <td>62000</td>\n      <td>0</td>\n    </tr>\n    <tr>\n      <th>250</th>\n      <td>44</td>\n      <td>39000</td>\n      <td>0</td>\n    </tr>\n    <tr>\n      <th>288</th>\n      <td>41</td>\n      <td>79000</td>\n      <td>0</td>\n    </tr>\n    <tr>\n      <th>297</th>\n      <td>43</td>\n      <td>112000</td>\n      <td>1</td>\n    </tr>\n  </tbody>\n</table>\n</div>"
     },
     "execution_count": 113,
     "metadata": {},
     "output_type": "execute_result"
    }
   ],
   "source": [
    "Required_Data.sample(n=10)"
   ],
   "metadata": {
    "collapsed": false
   }
  },
  {
   "cell_type": "code",
   "execution_count": 192,
   "outputs": [
    {
     "data": {
      "text/plain": "          Age  EstimatedSalary  Purchased\n0    0.316667         0.126667          0\n1    0.583333         0.133333          0\n2    0.433333         0.286667          0\n3    0.450000         0.380000          0\n4    0.316667         0.506667          0\n..        ...              ...        ...\n395  0.766667         0.273333          1\n396  0.850000         0.153333          1\n397  0.833333         0.133333          1\n398  0.600000         0.220000          0\n399  0.816667         0.240000          1\n\n[400 rows x 3 columns]",
      "text/html": "<div>\n<style scoped>\n    .dataframe tbody tr th:only-of-type {\n        vertical-align: middle;\n    }\n\n    .dataframe tbody tr th {\n        vertical-align: top;\n    }\n\n    .dataframe thead th {\n        text-align: right;\n    }\n</style>\n<table border=\"1\" class=\"dataframe\">\n  <thead>\n    <tr style=\"text-align: right;\">\n      <th></th>\n      <th>Age</th>\n      <th>EstimatedSalary</th>\n      <th>Purchased</th>\n    </tr>\n  </thead>\n  <tbody>\n    <tr>\n      <th>0</th>\n      <td>0.316667</td>\n      <td>0.126667</td>\n      <td>0</td>\n    </tr>\n    <tr>\n      <th>1</th>\n      <td>0.583333</td>\n      <td>0.133333</td>\n      <td>0</td>\n    </tr>\n    <tr>\n      <th>2</th>\n      <td>0.433333</td>\n      <td>0.286667</td>\n      <td>0</td>\n    </tr>\n    <tr>\n      <th>3</th>\n      <td>0.450000</td>\n      <td>0.380000</td>\n      <td>0</td>\n    </tr>\n    <tr>\n      <th>4</th>\n      <td>0.316667</td>\n      <td>0.506667</td>\n      <td>0</td>\n    </tr>\n    <tr>\n      <th>...</th>\n      <td>...</td>\n      <td>...</td>\n      <td>...</td>\n    </tr>\n    <tr>\n      <th>395</th>\n      <td>0.766667</td>\n      <td>0.273333</td>\n      <td>1</td>\n    </tr>\n    <tr>\n      <th>396</th>\n      <td>0.850000</td>\n      <td>0.153333</td>\n      <td>1</td>\n    </tr>\n    <tr>\n      <th>397</th>\n      <td>0.833333</td>\n      <td>0.133333</td>\n      <td>1</td>\n    </tr>\n    <tr>\n      <th>398</th>\n      <td>0.600000</td>\n      <td>0.220000</td>\n      <td>0</td>\n    </tr>\n    <tr>\n      <th>399</th>\n      <td>0.816667</td>\n      <td>0.240000</td>\n      <td>1</td>\n    </tr>\n  </tbody>\n</table>\n<p>400 rows × 3 columns</p>\n</div>"
     },
     "execution_count": 192,
     "metadata": {},
     "output_type": "execute_result"
    }
   ],
   "source": [
    "Required_Data"
   ],
   "metadata": {
    "collapsed": false
   }
  },
  {
   "cell_type": "code",
   "execution_count": 205,
   "outputs": [
    {
     "data": {
      "text/plain": "          Age  EstimatedSalary  Purchased  Distance\n170  0.350000         0.586667          0  0.081718\n12   0.333333         0.573333          0  0.093333\n165  0.300000         0.573333          0  0.099107\n145  0.400000         0.593333          0  0.099107\n140  0.316667         0.566667          0  0.101379",
      "text/html": "<div>\n<style scoped>\n    .dataframe tbody tr th:only-of-type {\n        vertical-align: middle;\n    }\n\n    .dataframe tbody tr th {\n        vertical-align: top;\n    }\n\n    .dataframe thead th {\n        text-align: right;\n    }\n</style>\n<table border=\"1\" class=\"dataframe\">\n  <thead>\n    <tr style=\"text-align: right;\">\n      <th></th>\n      <th>Age</th>\n      <th>EstimatedSalary</th>\n      <th>Purchased</th>\n      <th>Distance</th>\n    </tr>\n  </thead>\n  <tbody>\n    <tr>\n      <th>170</th>\n      <td>0.350000</td>\n      <td>0.586667</td>\n      <td>0</td>\n      <td>0.081718</td>\n    </tr>\n    <tr>\n      <th>12</th>\n      <td>0.333333</td>\n      <td>0.573333</td>\n      <td>0</td>\n      <td>0.093333</td>\n    </tr>\n    <tr>\n      <th>165</th>\n      <td>0.300000</td>\n      <td>0.573333</td>\n      <td>0</td>\n      <td>0.099107</td>\n    </tr>\n    <tr>\n      <th>145</th>\n      <td>0.400000</td>\n      <td>0.593333</td>\n      <td>0</td>\n      <td>0.099107</td>\n    </tr>\n    <tr>\n      <th>140</th>\n      <td>0.316667</td>\n      <td>0.566667</td>\n      <td>0</td>\n      <td>0.101379</td>\n    </tr>\n  </tbody>\n</table>\n</div>"
     },
     "execution_count": 205,
     "metadata": {},
     "output_type": "execute_result"
    }
   ],
   "source": [
    "calculateDist(20, 100000, Required_Data,5)"
   ],
   "metadata": {
    "collapsed": false
   }
  },
  {
   "cell_type": "code",
   "execution_count": 145,
   "outputs": [
    {
     "data": {
      "text/plain": "0"
     },
     "execution_count": 145,
     "metadata": {},
     "output_type": "execute_result"
    }
   ],
   "source": [],
   "metadata": {
    "collapsed": false
   }
  },
  {
   "cell_type": "code",
   "execution_count": 199,
   "outputs": [
    {
     "data": {
      "text/plain": "0"
     },
     "execution_count": 199,
     "metadata": {},
     "output_type": "execute_result"
    }
   ],
   "source": [
    "classify(calculateDist(19, 19000, Required_Data,1)[\"Purchased\"])"
   ],
   "metadata": {
    "collapsed": false
   }
  },
  {
   "cell_type": "code",
   "execution_count": 225,
   "outputs": [
    {
     "data": {
      "text/plain": "1"
     },
     "execution_count": 225,
     "metadata": {},
     "output_type": "execute_result"
    }
   ],
   "source": [
    "classify(calculateDist(32, 150000, Required_Data,5)[\"Purchased\"])"
   ],
   "metadata": {
    "collapsed": false
   }
  },
  {
   "cell_type": "code",
   "execution_count": 227,
   "outputs": [
    {
     "name": "stdout",
     "output_type": "stream",
     "text": [
      "0.31666666666666665 0.12666666666666668\n",
      "0.5833333333333334 0.13333333333333333\n",
      "0.43333333333333335 0.2866666666666667\n",
      "0.45 0.38\n",
      "0.31666666666666665 0.5066666666666667\n",
      "0.45 0.38666666666666666\n",
      "0.45 0.56\n",
      "0.5333333333333333 1.0\n",
      "0.4166666666666667 0.22\n",
      "0.5833333333333334 0.43333333333333335\n",
      "0.43333333333333335 0.5333333333333333\n"
     ]
    }
   ],
   "source": [
    "correct = 0\n",
    "incorrect = 0\n",
    "for _, j in Required_Data.loc[:10].iterrows():\n",
    "    print(j[0], j[1])\n",
    "    # print(classify(calculateDist(j[0], j[1], Required_Data,5)[\"Purchased\"]), j[2])\n",
    "    # if classify(calculateDist(j[0], j[1], Required_Data,1)[\"Purchased\"]) == j[2]:\n",
    "    #     correct += 1\n",
    "    # else:\n",
    "    #     incorrect += 1\n",
    "\n",
    "# print(correct / (correct + incorrect)*100, incorrect)\n",
    "    # print(j[0], j[1], j[2])"
   ],
   "metadata": {
    "collapsed": false
   }
  },
  {
   "cell_type": "code",
   "execution_count": 207,
   "outputs": [
    {
     "data": {
      "text/plain": "         Age  EstimatedSalary  Purchased\n0   0.316667         0.126667          0\n1   0.583333         0.133333          0\n2   0.433333         0.286667          0\n3   0.450000         0.380000          0\n4   0.316667         0.506667          0\n5   0.450000         0.386667          0\n6   0.450000         0.560000          0\n7   0.533333         1.000000          1\n8   0.416667         0.220000          0\n9   0.583333         0.433333          0\n10  0.433333         0.533333          0",
      "text/html": "<div>\n<style scoped>\n    .dataframe tbody tr th:only-of-type {\n        vertical-align: middle;\n    }\n\n    .dataframe tbody tr th {\n        vertical-align: top;\n    }\n\n    .dataframe thead th {\n        text-align: right;\n    }\n</style>\n<table border=\"1\" class=\"dataframe\">\n  <thead>\n    <tr style=\"text-align: right;\">\n      <th></th>\n      <th>Age</th>\n      <th>EstimatedSalary</th>\n      <th>Purchased</th>\n    </tr>\n  </thead>\n  <tbody>\n    <tr>\n      <th>0</th>\n      <td>0.316667</td>\n      <td>0.126667</td>\n      <td>0</td>\n    </tr>\n    <tr>\n      <th>1</th>\n      <td>0.583333</td>\n      <td>0.133333</td>\n      <td>0</td>\n    </tr>\n    <tr>\n      <th>2</th>\n      <td>0.433333</td>\n      <td>0.286667</td>\n      <td>0</td>\n    </tr>\n    <tr>\n      <th>3</th>\n      <td>0.450000</td>\n      <td>0.380000</td>\n      <td>0</td>\n    </tr>\n    <tr>\n      <th>4</th>\n      <td>0.316667</td>\n      <td>0.506667</td>\n      <td>0</td>\n    </tr>\n    <tr>\n      <th>5</th>\n      <td>0.450000</td>\n      <td>0.386667</td>\n      <td>0</td>\n    </tr>\n    <tr>\n      <th>6</th>\n      <td>0.450000</td>\n      <td>0.560000</td>\n      <td>0</td>\n    </tr>\n    <tr>\n      <th>7</th>\n      <td>0.533333</td>\n      <td>1.000000</td>\n      <td>1</td>\n    </tr>\n    <tr>\n      <th>8</th>\n      <td>0.416667</td>\n      <td>0.220000</td>\n      <td>0</td>\n    </tr>\n    <tr>\n      <th>9</th>\n      <td>0.583333</td>\n      <td>0.433333</td>\n      <td>0</td>\n    </tr>\n    <tr>\n      <th>10</th>\n      <td>0.433333</td>\n      <td>0.533333</td>\n      <td>0</td>\n    </tr>\n  </tbody>\n</table>\n</div>"
     },
     "execution_count": 207,
     "metadata": {},
     "output_type": "execute_result"
    }
   ],
   "source": [
    "Required_Data.loc[:10]"
   ],
   "metadata": {
    "collapsed": false
   }
  },
  {
   "cell_type": "code",
   "execution_count": 209,
   "outputs": [
    {
     "data": {
      "text/plain": "Age                    32\nEstimatedSalary    150000\nName: 7, dtype: int64"
     },
     "execution_count": 209,
     "metadata": {},
     "output_type": "execute_result"
    }
   ],
   "source": [
    "for i in range(10):\n"
   ],
   "metadata": {
    "collapsed": false
   }
  },
  {
   "cell_type": "code",
   "execution_count": null,
   "outputs": [],
   "source": [],
   "metadata": {
    "collapsed": false
   }
  }
 ],
 "metadata": {
  "kernelspec": {
   "display_name": "Python 3",
   "language": "python",
   "name": "python3"
  },
  "language_info": {
   "codemirror_mode": {
    "name": "ipython",
    "version": 2
   },
   "file_extension": ".py",
   "mimetype": "text/x-python",
   "name": "python",
   "nbconvert_exporter": "python",
   "pygments_lexer": "ipython2",
   "version": "2.7.6"
  }
 },
 "nbformat": 4,
 "nbformat_minor": 0
}
