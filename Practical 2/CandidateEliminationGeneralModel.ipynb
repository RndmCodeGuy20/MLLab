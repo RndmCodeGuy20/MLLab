{
 "cells": [
  {
   "cell_type": "code",
   "execution_count": 1,
   "outputs": [],
   "source": [
    "import pandas as pd\n",
    "import numpy as np"
   ],
   "metadata": {
    "collapsed": false,
    "pycharm": {
     "name": "#%%\n"
    }
   }
  },
  {
   "cell_type": "markdown",
   "source": [
    "# General to specific model"
   ],
   "metadata": {
    "collapsed": false,
    "pycharm": {
     "name": "#%% md\n"
    }
   }
  },
  {
   "cell_type": "code",
   "execution_count": 2,
   "outputs": [
    {
     "data": {
      "text/plain": "     Sky AirTemp Humidity    Wind Water Forecast EnjoySport\n0  Sunny    Warm   Normal  Strong  Warm     Same        Yes\n1  Sunny    Warm     High  Strong  Warm     Same        Yes\n2  Rainy    Cold     High  Strong  Warm   Change         No\n3  Sunny    Warm     High  Strong  Cool   Change        Yes",
      "text/html": "<div>\n<style scoped>\n    .dataframe tbody tr th:only-of-type {\n        vertical-align: middle;\n    }\n\n    .dataframe tbody tr th {\n        vertical-align: top;\n    }\n\n    .dataframe thead th {\n        text-align: right;\n    }\n</style>\n<table border=\"1\" class=\"dataframe\">\n  <thead>\n    <tr style=\"text-align: right;\">\n      <th></th>\n      <th>Sky</th>\n      <th>AirTemp</th>\n      <th>Humidity</th>\n      <th>Wind</th>\n      <th>Water</th>\n      <th>Forecast</th>\n      <th>EnjoySport</th>\n    </tr>\n  </thead>\n  <tbody>\n    <tr>\n      <th>0</th>\n      <td>Sunny</td>\n      <td>Warm</td>\n      <td>Normal</td>\n      <td>Strong</td>\n      <td>Warm</td>\n      <td>Same</td>\n      <td>Yes</td>\n    </tr>\n    <tr>\n      <th>1</th>\n      <td>Sunny</td>\n      <td>Warm</td>\n      <td>High</td>\n      <td>Strong</td>\n      <td>Warm</td>\n      <td>Same</td>\n      <td>Yes</td>\n    </tr>\n    <tr>\n      <th>2</th>\n      <td>Rainy</td>\n      <td>Cold</td>\n      <td>High</td>\n      <td>Strong</td>\n      <td>Warm</td>\n      <td>Change</td>\n      <td>No</td>\n    </tr>\n    <tr>\n      <th>3</th>\n      <td>Sunny</td>\n      <td>Warm</td>\n      <td>High</td>\n      <td>Strong</td>\n      <td>Cool</td>\n      <td>Change</td>\n      <td>Yes</td>\n    </tr>\n  </tbody>\n</table>\n</div>"
     },
     "execution_count": 2,
     "metadata": {},
     "output_type": "execute_result"
    }
   ],
   "source": [
    "d1_df = pd.read_csv('./Assets/dataset-1.csv')\n",
    "\n",
    "d1_df"
   ],
   "metadata": {
    "collapsed": false,
    "pycharm": {
     "name": "#%%\n"
    }
   }
  },
  {
   "cell_type": "code",
   "execution_count": 3,
   "outputs": [
    {
     "data": {
      "text/plain": "          Sky AirTemp Humidity    Wind Water Forecast EnjoySport\ncount       4       4        4       4     4        4          4\nunique      2       2        2       1     2        2          2\ntop     Sunny    Warm     High  Strong  Warm     Same        Yes\nfreq        3       3        3       4     3        2          3",
      "text/html": "<div>\n<style scoped>\n    .dataframe tbody tr th:only-of-type {\n        vertical-align: middle;\n    }\n\n    .dataframe tbody tr th {\n        vertical-align: top;\n    }\n\n    .dataframe thead th {\n        text-align: right;\n    }\n</style>\n<table border=\"1\" class=\"dataframe\">\n  <thead>\n    <tr style=\"text-align: right;\">\n      <th></th>\n      <th>Sky</th>\n      <th>AirTemp</th>\n      <th>Humidity</th>\n      <th>Wind</th>\n      <th>Water</th>\n      <th>Forecast</th>\n      <th>EnjoySport</th>\n    </tr>\n  </thead>\n  <tbody>\n    <tr>\n      <th>count</th>\n      <td>4</td>\n      <td>4</td>\n      <td>4</td>\n      <td>4</td>\n      <td>4</td>\n      <td>4</td>\n      <td>4</td>\n    </tr>\n    <tr>\n      <th>unique</th>\n      <td>2</td>\n      <td>2</td>\n      <td>2</td>\n      <td>1</td>\n      <td>2</td>\n      <td>2</td>\n      <td>2</td>\n    </tr>\n    <tr>\n      <th>top</th>\n      <td>Sunny</td>\n      <td>Warm</td>\n      <td>High</td>\n      <td>Strong</td>\n      <td>Warm</td>\n      <td>Same</td>\n      <td>Yes</td>\n    </tr>\n    <tr>\n      <th>freq</th>\n      <td>3</td>\n      <td>3</td>\n      <td>3</td>\n      <td>4</td>\n      <td>3</td>\n      <td>2</td>\n      <td>3</td>\n    </tr>\n  </tbody>\n</table>\n</div>"
     },
     "execution_count": 3,
     "metadata": {},
     "output_type": "execute_result"
    }
   ],
   "source": [
    "d1_df.describe()"
   ],
   "metadata": {
    "collapsed": false,
    "pycharm": {
     "name": "#%%\n"
    }
   }
  },
  {
   "cell_type": "code",
   "execution_count": 4,
   "outputs": [
    {
     "data": {
      "text/plain": "array(['Sunny', 'Rainy'], dtype=object)"
     },
     "execution_count": 4,
     "metadata": {},
     "output_type": "execute_result"
    }
   ],
   "source": [
    "d1_df['Sky'].unique()"
   ],
   "metadata": {
    "collapsed": false,
    "pycharm": {
     "name": "#%%\n"
    }
   }
  },
  {
   "cell_type": "code",
   "execution_count": 5,
   "outputs": [
    {
     "data": {
      "text/plain": "['Sky', 'AirTemp', 'Humidity', 'Wind', 'Water', 'Forecast']"
     },
     "execution_count": 5,
     "metadata": {},
     "output_type": "execute_result"
    }
   ],
   "source": [
    "feature_list = d1_df.columns.tolist()[:-1]\n",
    "feature_list"
   ],
   "metadata": {
    "collapsed": false,
    "pycharm": {
     "name": "#%%\n"
    }
   }
  },
  {
   "cell_type": "code",
   "execution_count": 6,
   "outputs": [
    {
     "data": {
      "text/plain": "['Sunny']"
     },
     "execution_count": 6,
     "metadata": {},
     "output_type": "execute_result"
    }
   ],
   "source": [
    "t = d1_df[\"Sky\"].unique().tolist()\n",
    "\n",
    "temp = []\n",
    "for i in t:\n",
    "    if i != \"Rainy\":\n",
    "        temp.append(i)\n",
    "\n",
    "temp"
   ],
   "metadata": {
    "collapsed": false,
    "pycharm": {
     "name": "#%%\n"
    }
   }
  },
  {
   "cell_type": "code",
   "execution_count": 7,
   "outputs": [
    {
     "data": {
      "text/plain": "'Rainy'"
     },
     "execution_count": 7,
     "metadata": {},
     "output_type": "execute_result"
    }
   ],
   "source": [
    "first_neg = d1_df.iloc[2]\n",
    "first_neg[\"Sky\"]"
   ],
   "metadata": {
    "collapsed": false,
    "pycharm": {
     "name": "#%%\n"
    }
   }
  },
  {
   "cell_type": "code",
   "execution_count": 8,
   "outputs": [
    {
     "data": {
      "text/plain": "Sky            Sunny\nAirTemp         Warm\nHumidity      Normal\nWind          Strong\nWater           Warm\nForecast        Same\nEnjoySport       Yes\nName: 0, dtype: object"
     },
     "execution_count": 8,
     "metadata": {},
     "output_type": "execute_result"
    }
   ],
   "source": [
    "attrList = d1_df.columns.tolist()\n",
    "Hypo = d1_df.iloc[0][attrList]\n",
    "Hypo"
   ],
   "metadata": {
    "collapsed": false,
    "pycharm": {
     "name": "#%%\n"
    }
   }
  },
  {
   "cell_type": "code",
   "execution_count": 9,
   "outputs": [
    {
     "name": "stdout",
     "output_type": "stream",
     "text": [
      "Sunny Warm Normal Strong Warm Same Yes \n",
      "\n",
      "Sunny Warm ? Strong Warm Same Yes \n",
      "\n"
     ]
    }
   ],
   "source": [
    "attrList = d1_df.columns.tolist()\n",
    "Hypo = d1_df.iloc[0][attrList]\n",
    "\n",
    "pos_hypo_df = d1_df.loc[d1_df[\"EnjoySport\"] == \"Yes\"]\n",
    "\n",
    "for i in range(2):\n",
    "    for j in attrList:\n",
    "        if Hypo[j] != pos_hypo_df.iloc[i][j] and Hypo[j] != \"?\":\n",
    "            Hypo[j] = \"?\"\n",
    "        print(Hypo[j], end=\" \")\n",
    "    print(\"\\n\")"
   ],
   "metadata": {
    "collapsed": false,
    "pycharm": {
     "name": "#%%\n"
    }
   }
  },
  {
   "cell_type": "code",
   "execution_count": 10,
   "outputs": [
    {
     "name": "stdout",
     "output_type": "stream",
     "text": [
      "Sunny Warm Normal Strong Warm Same Yes \n",
      "\n",
      "Sunny Warm ? Strong Warm Same Yes \n",
      "\n",
      "? ? ? Strong Warm ? ? \n",
      "\n",
      "? ? ? Strong ? ? ? \n",
      "\n",
      "['Sunny', '?', '?', '?', '?', '?']\n",
      "['?', 'Warm', '?', '?', '?', '?']\n",
      "['?', '?', '?', '?', '?', 'Same']\n"
     ]
    },
    {
     "data": {
      "text/plain": "[['Sunny', '?', '?', '?', '?', '?'],\n ['?', 'Warm', '?', '?', '?', '?'],\n ['?', '?', '?', '?', '?', 'Same']]"
     },
     "execution_count": 10,
     "metadata": {},
     "output_type": "execute_result"
    }
   ],
   "source": [
    "# first negative value is reached\n",
    "attrList = d1_df.columns.tolist()\n",
    "Hypo = d1_df.iloc[0][attrList]\n",
    "\n",
    "for i in range(d1_df.shape[0]):\n",
    "    for j in attrList:\n",
    "        if Hypo[j] != d1_df.iloc[i][j] and Hypo[j] != \"?\":\n",
    "            Hypo[j] = \"?\"\n",
    "        print(Hypo[j], end=\" \")\n",
    "    print(\"\\n\")\n",
    "\n",
    "first_neg = d1_df.iloc[2]\n",
    "first_perm = [\"?\", \"?\", \"?\", \"?\", \"?\", \"?\"]\n",
    "hypo = []\n",
    "s2 = [\"Sunny\", \"Warm\", \"?\", \"Strong\", \"Warm\", \"Same\"]\n",
    "k = 0\n",
    "for i in feature_list:\n",
    "    for j in d1_df[i].unique().tolist():\n",
    "        first_perm = [\"?\", \"?\", \"?\", \"?\", \"?\", \"?\"]\n",
    "        if j != first_neg[i] and not s2[k] == \"?\":\n",
    "            first_perm[k] = j\n",
    "            hypo.append(first_perm)\n",
    "            print(first_perm)\n",
    "            break\n",
    "        break\n",
    "    k += 1\n",
    "\n",
    "hypo"
   ],
   "metadata": {
    "collapsed": false,
    "pycharm": {
     "name": "#%%\n"
    }
   }
  },
  {
   "cell_type": "code",
   "execution_count": 10,
   "outputs": [],
   "source": [],
   "metadata": {
    "collapsed": false,
    "pycharm": {
     "name": "#%%\n"
    }
   }
  },
  {
   "cell_type": "code",
   "execution_count": null,
   "outputs": [],
   "source": [],
   "metadata": {
    "collapsed": false,
    "pycharm": {
     "name": "#%%\n"
    }
   }
  }
 ],
 "metadata": {
  "kernelspec": {
   "display_name": "Python 3",
   "language": "python",
   "name": "python3"
  },
  "language_info": {
   "codemirror_mode": {
    "name": "ipython",
    "version": 2
   },
   "file_extension": ".py",
   "mimetype": "text/x-python",
   "name": "python",
   "nbconvert_exporter": "python",
   "pygments_lexer": "ipython2",
   "version": "2.7.6"
  }
 },
 "nbformat": 4,
 "nbformat_minor": 0
}