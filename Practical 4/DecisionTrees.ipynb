{
 "cells": [
  {
   "cell_type": "code",
   "execution_count": 23,
   "outputs": [],
   "source": [
    "import pandas as pd\n",
    "import numpy as np"
   ],
   "metadata": {
    "collapsed": false
   }
  },
  {
   "cell_type": "code",
   "execution_count": 65,
   "outputs": [
    {
     "data": {
      "text/plain": "{'divide': 'warn', 'over': 'warn', 'under': 'ignore', 'invalid': 'warn'}"
     },
     "execution_count": 65,
     "metadata": {},
     "output_type": "execute_result"
    }
   ],
   "source": [
    "np.seterr(divide=\"ignore\")"
   ],
   "metadata": {
    "collapsed": false
   }
  },
  {
   "cell_type": "code",
   "execution_count": 8,
   "outputs": [
    {
     "name": "stdout",
     "output_type": "stream",
     "text": [
      "938\n",
      "938 None None\n",
      "203 938\n",
      "203 203\n",
      "None\n"
     ]
    }
   ],
   "source": [
    "class DecisionTree:\n",
    "    def __init__(self, data):\n",
    "        self.data = data\n",
    "        self.right = None\n",
    "        self.left = None\n",
    "\n",
    "    def printData(self):\n",
    "        print(self.data)\n",
    "\n",
    "    def insertData(self, data):\n",
    "        print(data, self.data)\n",
    "        self.data = data\n",
    "        print(data, self.data)\n",
    "\n",
    "\n",
    "tree = DecisionTree(938)\n",
    "tree.printData()\n",
    "print(tree.data, tree.left, tree.right)\n",
    "print(tree.insertData(203))"
   ],
   "metadata": {
    "collapsed": false
   }
  },
  {
   "cell_type": "code",
   "execution_count": 2,
   "outputs": [],
   "source": [
    "data_df = pd.read_csv(\"./assets/play_tennis.csv\")"
   ],
   "metadata": {
    "collapsed": false
   }
  },
  {
   "cell_type": "code",
   "execution_count": 3,
   "outputs": [
    {
     "data": {
      "text/plain": "  day   outlook  temp humidity    wind play\n0  D1     Sunny   Hot     High    Weak   No\n1  D2     Sunny   Hot     High  Strong   No\n2  D3  Overcast   Hot     High    Weak  Yes\n3  D4      Rain  Mild     High    Weak  Yes\n4  D5      Rain  Cool   Normal    Weak  Yes",
      "text/html": "<div>\n<style scoped>\n    .dataframe tbody tr th:only-of-type {\n        vertical-align: middle;\n    }\n\n    .dataframe tbody tr th {\n        vertical-align: top;\n    }\n\n    .dataframe thead th {\n        text-align: right;\n    }\n</style>\n<table border=\"1\" class=\"dataframe\">\n  <thead>\n    <tr style=\"text-align: right;\">\n      <th></th>\n      <th>day</th>\n      <th>outlook</th>\n      <th>temp</th>\n      <th>humidity</th>\n      <th>wind</th>\n      <th>play</th>\n    </tr>\n  </thead>\n  <tbody>\n    <tr>\n      <th>0</th>\n      <td>D1</td>\n      <td>Sunny</td>\n      <td>Hot</td>\n      <td>High</td>\n      <td>Weak</td>\n      <td>No</td>\n    </tr>\n    <tr>\n      <th>1</th>\n      <td>D2</td>\n      <td>Sunny</td>\n      <td>Hot</td>\n      <td>High</td>\n      <td>Strong</td>\n      <td>No</td>\n    </tr>\n    <tr>\n      <th>2</th>\n      <td>D3</td>\n      <td>Overcast</td>\n      <td>Hot</td>\n      <td>High</td>\n      <td>Weak</td>\n      <td>Yes</td>\n    </tr>\n    <tr>\n      <th>3</th>\n      <td>D4</td>\n      <td>Rain</td>\n      <td>Mild</td>\n      <td>High</td>\n      <td>Weak</td>\n      <td>Yes</td>\n    </tr>\n    <tr>\n      <th>4</th>\n      <td>D5</td>\n      <td>Rain</td>\n      <td>Cool</td>\n      <td>Normal</td>\n      <td>Weak</td>\n      <td>Yes</td>\n    </tr>\n  </tbody>\n</table>\n</div>"
     },
     "execution_count": 3,
     "metadata": {},
     "output_type": "execute_result"
    }
   ],
   "source": [
    "data_df.head()"
   ],
   "metadata": {
    "collapsed": false
   }
  },
  {
   "cell_type": "code",
   "execution_count": null,
   "outputs": [],
   "source": [
    "def Entropy(featureList: pd.Series):\n",
    "    uniqueVal = featureList.unique()\n",
    "    entropy = 0\n",
    "    return entropy"
   ],
   "metadata": {
    "collapsed": false
   }
  },
  {
   "cell_type": "code",
   "execution_count": 5,
   "outputs": [
    {
     "data": {
      "text/plain": "numpy.ndarray"
     },
     "execution_count": 5,
     "metadata": {},
     "output_type": "execute_result"
    }
   ],
   "source": [
    "uniqueVal = data_df[\"play\"].unique()\n",
    "entropy = 0\n",
    "\n",
    "type(uniqueVal)"
   ],
   "metadata": {
    "collapsed": false
   }
  },
  {
   "cell_type": "code",
   "execution_count": 85,
   "outputs": [
    {
     "name": "stdout",
     "output_type": "stream",
     "text": [
      "No 5\n",
      "Yes 9\n",
      "{'Yes': 9, 'No': 5}\n",
      "Sum : 14\n"
     ]
    }
   ],
   "source": [
    "opCount = {\"Yes\": 0, \"No\": 0}\n",
    "uniqueVal = data_df[\"play\"].unique()\n",
    "\n",
    "for i in uniqueVal:\n",
    "    for j in data_df[\"play\"]:\n",
    "        if j == i:\n",
    "            opCount[i] += 1\n",
    "    print(i, opCount[i])\n",
    "print(f\"{opCount}\\nSum : {opCount['Yes'] + opCount['No']}\")"
   ],
   "metadata": {
    "collapsed": false
   }
  },
  {
   "cell_type": "code",
   "execution_count": 22,
   "outputs": [],
   "source": [
    "tot = data_df.shape[0]"
   ],
   "metadata": {
    "collapsed": false
   }
  },
  {
   "cell_type": "code",
   "execution_count": 86,
   "outputs": [
    {
     "data": {
      "text/plain": "0.9402859586706311"
     },
     "execution_count": 86,
     "metadata": {},
     "output_type": "execute_result"
    }
   ],
   "source": [
    "entropy = 0\n",
    "\n",
    "for _, j in opCount.items():\n",
    "    entropy += -((j / tot) * np.log2(j / tot))\n",
    "\n",
    "entropy"
   ],
   "metadata": {
    "collapsed": false
   }
  },
  {
   "cell_type": "code",
   "execution_count": 39,
   "outputs": [],
   "source": [
    "# testDict = {}\n",
    "\n",
    "# testDict['sunny'] = {'yes': 20}\n",
    "# testDict['overcast'] = {'yes': 20}\n",
    "#\n",
    "# testDict"
   ],
   "metadata": {
    "collapsed": false
   }
  },
  {
   "cell_type": "code",
   "execution_count": 58,
   "outputs": [
    {
     "name": "stdout",
     "output_type": "stream",
     "text": [
      "iteration Sunny\n",
      "No 3\n",
      "Yes 2\n",
      "iteration Overcast\n",
      "No 0\n",
      "Yes 4\n",
      "iteration Rain\n",
      "No 2\n",
      "Yes 3\n"
     ]
    },
    {
     "data": {
      "text/plain": "{'Sunny': {'Yes': 2, 'No': 3},\n 'Overcast': {'Yes': 4, 'No': 0},\n 'Rain': {'Yes': 3, 'No': 2}}"
     },
     "execution_count": 58,
     "metadata": {},
     "output_type": "execute_result"
    }
   ],
   "source": [
    "# outlook be the root\n",
    "\n",
    "uniqueVal = data_df['outlook'].unique()\n",
    "opCount = []\n",
    "featureDict = {}\n",
    "l = 0\n",
    "\n",
    "for i in uniqueVal:\n",
    "    l = 0\n",
    "    opCount = []\n",
    "    print(f\"iteration {i}\")\n",
    "    for j in data_df['play'].unique():\n",
    "        opCount.append(0)\n",
    "        for k in data_df['play'].loc[data_df['outlook'] == i]:\n",
    "            if k == j:\n",
    "                opCount[l] += 1\n",
    "        print(j, opCount[l])\n",
    "        l += 1\n",
    "    featureDict[i] = {'Yes': opCount[1], 'No': opCount[0]}\n",
    "\n",
    "featureDict"
   ],
   "metadata": {
    "collapsed": false
   }
  },
  {
   "cell_type": "code",
   "execution_count": 82,
   "outputs": [
    {
     "name": "stdout",
     "output_type": "stream",
     "text": [
      "Pair for outlook: {'Sunny': {'Yes': 2, 'No': 3}, 'Overcast': {'Yes': 4, 'No': 0}, 'Rain': {'Yes': 3, 'No': 2}}\n",
      "Pair for temp: {'Hot': {'Yes': 2, 'No': 2}, 'Mild': {'Yes': 4, 'No': 2}, 'Cool': {'Yes': 3, 'No': 1}}\n",
      "Pair for humidity: {'High': {'Yes': 3, 'No': 4}, 'Normal': {'Yes': 6, 'No': 1}}\n",
      "Pair for wind: {'Weak': {'Yes': 6, 'No': 2}, 'Strong': {'Yes': 3, 'No': 3}}\n"
     ]
    }
   ],
   "source": [
    "def calcYesNoPair(currentFeature):\n",
    "    uniqueVal = data_df[currentFeature].unique()\n",
    "    opCount = []\n",
    "    featureDict = {}\n",
    "    l = 0\n",
    "\n",
    "    for i in uniqueVal:\n",
    "        l = 0\n",
    "        opCount = []\n",
    "        for j in data_df['play'].unique():\n",
    "            opCount.append(0)\n",
    "            for k in data_df['play'].loc[data_df[currentFeature] == i]:\n",
    "                if k == j:\n",
    "                    opCount[l] += 1\n",
    "            l += 1\n",
    "        featureDict[i] = {'Yes': opCount[1], 'No': opCount[0]}\n",
    "\n",
    "    return featureDict\n",
    "\n",
    "# for i in data_df.columns[1:-1]:\n",
    "#     print(f\"Pair for {i}: {calcYesNoPair(i)}\")"
   ],
   "metadata": {
    "collapsed": false
   }
  },
  {
   "cell_type": "code",
   "execution_count": 88,
   "outputs": [
    {
     "name": "stdout",
     "output_type": "stream",
     "text": [
      "Entropy for Sunny: 0.9709505944546686\n",
      "Entropy for Overcast: 0\n",
      "Entropy for Rain: 0.9709505944546686\n"
     ]
    }
   ],
   "source": [
    "def calcEntropy(currentdict):\n",
    "    tot = sum(currentdict.values())\n",
    "    entropy = 0\n",
    "    for _, j in currentdict.items():\n",
    "        if j == 0:\n",
    "            return 0\n",
    "        entropy += -((j / tot) * np.log2(j / tot))\n",
    "    return entropy\n",
    "\n",
    "\n",
    "for i in featureDict:\n",
    "    print(f\"Entropy for {i}: {calcEntropy(featureDict[i])}\")"
   ],
   "metadata": {
    "collapsed": false
   }
  },
  {
   "cell_type": "code",
   "execution_count": 93,
   "outputs": [
    {
     "data": {
      "text/plain": "{'Sunny': {'Yes': 2, 'No': 3},\n 'Overcast': {'Yes': 4, 'No': 0},\n 'Rain': {'Yes': 3, 'No': 2}}"
     },
     "execution_count": 93,
     "metadata": {},
     "output_type": "execute_result"
    }
   ],
   "source": [
    "featureDict"
   ],
   "metadata": {
    "collapsed": false
   }
  },
  {
   "cell_type": "code",
   "execution_count": 103,
   "outputs": [
    {
     "data": {
      "text/plain": "0.24674981977443933"
     },
     "execution_count": 103,
     "metadata": {},
     "output_type": "execute_result"
    }
   ],
   "source": [
    "featureDict = calcYesNoPair('outlook')\n",
    "\n",
    "infGain = 0\n",
    "valCounts = pd.value_counts(data_df[\"outlook\"])\n",
    "sumM = 0\n",
    "for i in featureDict:\n",
    "    sumM -= ((valCounts[i] / tot) * calcEntropy(featureDict[i]))\n",
    "infGain = entropy + sumM\n",
    "infGain"
   ],
   "metadata": {
    "collapsed": false
   }
  },
  {
   "cell_type": "code",
   "execution_count": 107,
   "outputs": [
    {
     "name": "stdout",
     "output_type": "stream",
     "text": [
      "{'Hot': {'Yes': 2, 'No': 2}, 'Mild': {'Yes': 4, 'No': 2}, 'Cool': {'Yes': 3, 'No': 1}} 0.8112781244591328\n"
     ]
    },
    {
     "data": {
      "text/plain": "0.02922256565895487"
     },
     "execution_count": 107,
     "metadata": {},
     "output_type": "execute_result"
    }
   ],
   "source": [
    "featureDict = calcYesNoPair('temp')\n",
    "print(featureDict, calcEntropy(featureDict['Cool']))\n",
    "infGain = 0\n",
    "valCounts = pd.value_counts(data_df[\"temp\"])\n",
    "sumM = 0\n",
    "for i in featureDict:\n",
    "    sumM -= ((valCounts[i] / tot) * calcEntropy(featureDict[i]))\n",
    "infGain = entropy + sumM\n",
    "infGain"
   ],
   "metadata": {
    "collapsed": false
   }
  },
  {
   "cell_type": "code",
   "execution_count": null,
   "outputs": [],
   "source": [],
   "metadata": {
    "collapsed": false,
    "pycharm": {
     "is_executing": true
    }
   }
  },
  {
   "cell_type": "code",
   "execution_count": 107,
   "outputs": [],
   "source": [],
   "metadata": {
    "collapsed": false
   }
  }
 ],
 "metadata": {
  "kernelspec": {
   "display_name": "Python 3",
   "language": "python",
   "name": "python3"
  },
  "language_info": {
   "codemirror_mode": {
    "name": "ipython",
    "version": 2
   },
   "file_extension": ".py",
   "mimetype": "text/x-python",
   "name": "python",
   "nbconvert_exporter": "python",
   "pygments_lexer": "ipython2",
   "version": "2.7.6"
  }
 },
 "nbformat": 4,
 "nbformat_minor": 0
}
