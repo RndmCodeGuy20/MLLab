{
 "cells": [
  {
   "cell_type": "code",
   "execution_count": 1,
   "outputs": [],
   "source": [
    "import pandas as pd"
   ],
   "metadata": {
    "collapsed": false
   }
  },
  {
   "cell_type": "code",
   "execution_count": 8,
   "metadata": {
    "collapsed": true
   },
   "outputs": [
    {
     "name": "stdout",
     "output_type": "stream",
     "text": [
      "938\n",
      "938 None None\n",
      "203 938\n",
      "203 203\n",
      "None\n"
     ]
    }
   ],
   "source": [
    "class DecisionTree:\n",
    "    def __init__(self, data):\n",
    "        self.data = data\n",
    "        self.right = None\n",
    "        self.left = None\n",
    "\n",
    "    def printData(self):\n",
    "        print(self.data)\n",
    "\n",
    "    def insertData(self, data):\n",
    "        print(data, self.data)\n",
    "        self.data = data\n",
    "        print(data, self.data)\n",
    "\n",
    "\n",
    "tree = DecisionTree(938)\n",
    "tree.printData()\n",
    "print(tree.data, tree.left, tree.right)\n",
    "print(tree.insertData(203))"
   ]
  },
  {
   "cell_type": "code",
   "execution_count": 3,
   "outputs": [],
   "source": [
    "data_df = pd.read_csv(\"./assets/play_tennis.csv\")"
   ],
   "metadata": {
    "collapsed": false
   }
  },
  {
   "cell_type": "code",
   "execution_count": 4,
   "outputs": [
    {
     "data": {
      "text/plain": "  day   outlook  temp humidity    wind play\n0  D1     Sunny   Hot     High    Weak   No\n1  D2     Sunny   Hot     High  Strong   No\n2  D3  Overcast   Hot     High    Weak  Yes\n3  D4      Rain  Mild     High    Weak  Yes\n4  D5      Rain  Cool   Normal    Weak  Yes",
      "text/html": "<div>\n<style scoped>\n    .dataframe tbody tr th:only-of-type {\n        vertical-align: middle;\n    }\n\n    .dataframe tbody tr th {\n        vertical-align: top;\n    }\n\n    .dataframe thead th {\n        text-align: right;\n    }\n</style>\n<table border=\"1\" class=\"dataframe\">\n  <thead>\n    <tr style=\"text-align: right;\">\n      <th></th>\n      <th>day</th>\n      <th>outlook</th>\n      <th>temp</th>\n      <th>humidity</th>\n      <th>wind</th>\n      <th>play</th>\n    </tr>\n  </thead>\n  <tbody>\n    <tr>\n      <th>0</th>\n      <td>D1</td>\n      <td>Sunny</td>\n      <td>Hot</td>\n      <td>High</td>\n      <td>Weak</td>\n      <td>No</td>\n    </tr>\n    <tr>\n      <th>1</th>\n      <td>D2</td>\n      <td>Sunny</td>\n      <td>Hot</td>\n      <td>High</td>\n      <td>Strong</td>\n      <td>No</td>\n    </tr>\n    <tr>\n      <th>2</th>\n      <td>D3</td>\n      <td>Overcast</td>\n      <td>Hot</td>\n      <td>High</td>\n      <td>Weak</td>\n      <td>Yes</td>\n    </tr>\n    <tr>\n      <th>3</th>\n      <td>D4</td>\n      <td>Rain</td>\n      <td>Mild</td>\n      <td>High</td>\n      <td>Weak</td>\n      <td>Yes</td>\n    </tr>\n    <tr>\n      <th>4</th>\n      <td>D5</td>\n      <td>Rain</td>\n      <td>Cool</td>\n      <td>Normal</td>\n      <td>Weak</td>\n      <td>Yes</td>\n    </tr>\n  </tbody>\n</table>\n</div>"
     },
     "execution_count": 4,
     "metadata": {},
     "output_type": "execute_result"
    }
   ],
   "source": [
    "data_df.head()"
   ],
   "metadata": {
    "collapsed": false
   }
  },
  {
   "cell_type": "code",
   "execution_count": null,
   "outputs": [],
   "source": [
    "def Entropy(featureList: pd.Series):\n",
    "    uniqueVal = featureList.unique()\n",
    "    entropy = 0\n",
    "    return entropy"
   ],
   "metadata": {
    "collapsed": false
   }
  },
  {
   "cell_type": "code",
   "execution_count": 8,
   "outputs": [
    {
     "data": {
      "text/plain": "numpy.ndarray"
     },
     "execution_count": 8,
     "metadata": {},
     "output_type": "execute_result"
    }
   ],
   "source": [
    "uniqueVal = data_df[\"play\"].unique()\n",
    "entropy = 0\n",
    "\n",
    "type(uniqueVal)"
   ],
   "metadata": {
    "collapsed": false
   }
  },
  {
   "cell_type": "code",
   "execution_count": 6,
   "outputs": [
    {
     "name": "stdout",
     "output_type": "stream",
     "text": [
      "No [5]\n",
      "Yes [5, 9]\n"
     ]
    },
    {
     "data": {
      "text/plain": "14"
     },
     "execution_count": 6,
     "metadata": {},
     "output_type": "execute_result"
    }
   ],
   "source": [
    "opCount = []\n",
    "k = 0\n",
    "uniqueVal = data_df[\"play\"].unique()\n",
    "\n",
    "for i in uniqueVal:\n",
    "    opCount.append(0)\n",
    "    for j in data_df[\"play\"]:\n",
    "        if j == i:\n",
    "            opCount[k] += 1\n",
    "    k += 1\n",
    "    print(i, opCount)\n",
    "sum(opCount)"
   ],
   "metadata": {
    "collapsed": false
   }
  },
  {
   "cell_type": "code",
   "execution_count": 9,
   "outputs": [],
   "source": [
    "# outlook be the root\n",
    "\n",
    "uniqueVal = data_df['outlook'].unique()\n",
    "entropy = 0\n",
    "\n",
    "\n"
   ],
   "metadata": {
    "collapsed": false
   }
  },
  {
   "cell_type": "code",
   "execution_count": 22,
   "outputs": [
    {
     "name": "stdout",
     "output_type": "stream",
     "text": [
      "iteration Sunny\n",
      "No [3]\n",
      "Yes [3, 2]\n",
      "iteration Overcast\n",
      "Yes [4]\n",
      "iteration Rain\n",
      "Yes [3]\n",
      "No [3, 2]\n"
     ]
    }
   ],
   "source": [
    "opCount = []\n",
    "l = 0\n",
    "\n",
    "for i in uniqueVal:\n",
    "    l = 0\n",
    "    opCount = []\n",
    "    print(f\"iteration {i}\")\n",
    "    for j in data_df['play'].loc[data_df['outlook'] == i].unique():\n",
    "        opCount.append(0)\n",
    "        for k in data_df['play'].loc[data_df['outlook'] == i]:\n",
    "            if k == j:\n",
    "                opCount[l] += 1\n",
    "        l += 1\n",
    "        print(j, opCount)"
   ],
   "metadata": {
    "collapsed": false
   }
  },
  {
   "cell_type": "code",
   "execution_count": 15,
   "outputs": [
    {
     "data": {
      "text/plain": "array(['No', 'Yes'], dtype=object)"
     },
     "execution_count": 15,
     "metadata": {},
     "output_type": "execute_result"
    }
   ],
   "source": [
    "data_df['play'].loc[data_df['outlook'] == 'Sunny'].unique()"
   ],
   "metadata": {
    "collapsed": false
   }
  },
  {
   "cell_type": "code",
   "execution_count": 19,
   "outputs": [
    {
     "name": "stdout",
     "output_type": "stream",
     "text": [
      "   outlook play\n",
      "0    Sunny   No\n",
      "1    Sunny   No\n",
      "7    Sunny   No\n",
      "8    Sunny  Yes\n",
      "10   Sunny  Yes\n",
      "     outlook play\n",
      "2   Overcast  Yes\n",
      "6   Overcast  Yes\n",
      "11  Overcast  Yes\n",
      "12  Overcast  Yes\n",
      "   outlook play\n",
      "3     Rain  Yes\n",
      "4     Rain  Yes\n",
      "5     Rain   No\n",
      "9     Rain  Yes\n",
      "13    Rain   No\n"
     ]
    }
   ],
   "source": [
    "for i in uniqueVal:\n",
    "    print(data_df[['outlook', 'play']].loc[data_df['outlook'] == i])"
   ],
   "metadata": {
    "collapsed": false
   }
  },
  {
   "cell_type": "code",
   "execution_count": 11,
   "outputs": [
    {
     "data": {
      "text/plain": "0     Sunny\n1     Sunny\n7     Sunny\n8     Sunny\n10    Sunny\nName: outlook, dtype: object"
     },
     "execution_count": 11,
     "metadata": {},
     "output_type": "execute_result"
    }
   ],
   "source": [
    "data_df['outlook'].loc[data_df['outlook'] == uniqueVal[0]]"
   ],
   "metadata": {
    "collapsed": false
   }
  },
  {
   "cell_type": "code",
   "execution_count": 12,
   "outputs": [
    {
     "data": {
      "text/plain": "   outlook play\n0    Sunny   No\n1    Sunny   No\n7    Sunny   No\n8    Sunny  Yes\n10   Sunny  Yes",
      "text/html": "<div>\n<style scoped>\n    .dataframe tbody tr th:only-of-type {\n        vertical-align: middle;\n    }\n\n    .dataframe tbody tr th {\n        vertical-align: top;\n    }\n\n    .dataframe thead th {\n        text-align: right;\n    }\n</style>\n<table border=\"1\" class=\"dataframe\">\n  <thead>\n    <tr style=\"text-align: right;\">\n      <th></th>\n      <th>outlook</th>\n      <th>play</th>\n    </tr>\n  </thead>\n  <tbody>\n    <tr>\n      <th>0</th>\n      <td>Sunny</td>\n      <td>No</td>\n    </tr>\n    <tr>\n      <th>1</th>\n      <td>Sunny</td>\n      <td>No</td>\n    </tr>\n    <tr>\n      <th>7</th>\n      <td>Sunny</td>\n      <td>No</td>\n    </tr>\n    <tr>\n      <th>8</th>\n      <td>Sunny</td>\n      <td>Yes</td>\n    </tr>\n    <tr>\n      <th>10</th>\n      <td>Sunny</td>\n      <td>Yes</td>\n    </tr>\n  </tbody>\n</table>\n</div>"
     },
     "execution_count": 12,
     "metadata": {},
     "output_type": "execute_result"
    }
   ],
   "source": [
    "data_df[['outlook', 'play']].loc[data_df['outlook'] == uniqueVal[0]]"
   ],
   "metadata": {
    "collapsed": false
   }
  },
  {
   "cell_type": "code",
   "execution_count": 13,
   "outputs": [
    {
     "data": {
      "text/plain": "0      No\n1      No\n7      No\n8     Yes\n10    Yes\nName: play, dtype: object"
     },
     "execution_count": 13,
     "metadata": {},
     "output_type": "execute_result"
    }
   ],
   "source": [
    "data_df['play'].loc[data_df['outlook'] == uniqueVal[0]]"
   ],
   "metadata": {
    "collapsed": false
   }
  },
  {
   "cell_type": "code",
   "execution_count": null,
   "outputs": [],
   "source": [],
   "metadata": {
    "collapsed": false
   }
  }
 ],
 "metadata": {
  "kernelspec": {
   "display_name": "Python 3",
   "language": "python",
   "name": "python3"
  },
  "language_info": {
   "codemirror_mode": {
    "name": "ipython",
    "version": 2
   },
   "file_extension": ".py",
   "mimetype": "text/x-python",
   "name": "python",
   "nbconvert_exporter": "python",
   "pygments_lexer": "ipython2",
   "version": "2.7.6"
  }
 },
 "nbformat": 4,
 "nbformat_minor": 0
}
