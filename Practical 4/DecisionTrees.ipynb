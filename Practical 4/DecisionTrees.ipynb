{
 "cells": [
  {
   "cell_type": "code",
   "execution_count": 3,
   "outputs": [],
   "source": [
    "import pandas as pd"
   ],
   "metadata": {
    "collapsed": false
   }
  },
  {
   "cell_type": "code",
   "execution_count": 8,
   "metadata": {
    "collapsed": true
   },
   "outputs": [
    {
     "name": "stdout",
     "output_type": "stream",
     "text": [
      "938\n",
      "938 None None\n",
      "203 938\n",
      "203 203\n",
      "None\n"
     ]
    }
   ],
   "source": [
    "class DecisionTree:\n",
    "    def __init__(self, data):\n",
    "        self.data = data\n",
    "        self.right = None\n",
    "        self.left = None\n",
    "\n",
    "    def printData(self):\n",
    "        print(self.data)\n",
    "\n",
    "    def insertData(self, data):\n",
    "        print(data, self.data)\n",
    "        self.data = data\n",
    "        print(data, self.data)\n",
    "\n",
    "\n",
    "tree = DecisionTree(938)\n",
    "tree.printData()\n",
    "print(tree.data, tree.left, tree.right)\n",
    "print(tree.insertData(203))"
   ]
  },
  {
   "cell_type": "code",
   "execution_count": 4,
   "outputs": [],
   "source": [
    "data_df = pd.read_csv(\"./assets/play_tennis.csv\")"
   ],
   "metadata": {
    "collapsed": false
   }
  },
  {
   "cell_type": "code",
   "execution_count": 5,
   "outputs": [
    {
     "data": {
      "text/plain": "  day   outlook  temp humidity    wind play\n0  D1     Sunny   Hot     High    Weak   No\n1  D2     Sunny   Hot     High  Strong   No\n2  D3  Overcast   Hot     High    Weak  Yes\n3  D4      Rain  Mild     High    Weak  Yes\n4  D5      Rain  Cool   Normal    Weak  Yes",
      "text/html": "<div>\n<style scoped>\n    .dataframe tbody tr th:only-of-type {\n        vertical-align: middle;\n    }\n\n    .dataframe tbody tr th {\n        vertical-align: top;\n    }\n\n    .dataframe thead th {\n        text-align: right;\n    }\n</style>\n<table border=\"1\" class=\"dataframe\">\n  <thead>\n    <tr style=\"text-align: right;\">\n      <th></th>\n      <th>day</th>\n      <th>outlook</th>\n      <th>temp</th>\n      <th>humidity</th>\n      <th>wind</th>\n      <th>play</th>\n    </tr>\n  </thead>\n  <tbody>\n    <tr>\n      <th>0</th>\n      <td>D1</td>\n      <td>Sunny</td>\n      <td>Hot</td>\n      <td>High</td>\n      <td>Weak</td>\n      <td>No</td>\n    </tr>\n    <tr>\n      <th>1</th>\n      <td>D2</td>\n      <td>Sunny</td>\n      <td>Hot</td>\n      <td>High</td>\n      <td>Strong</td>\n      <td>No</td>\n    </tr>\n    <tr>\n      <th>2</th>\n      <td>D3</td>\n      <td>Overcast</td>\n      <td>Hot</td>\n      <td>High</td>\n      <td>Weak</td>\n      <td>Yes</td>\n    </tr>\n    <tr>\n      <th>3</th>\n      <td>D4</td>\n      <td>Rain</td>\n      <td>Mild</td>\n      <td>High</td>\n      <td>Weak</td>\n      <td>Yes</td>\n    </tr>\n    <tr>\n      <th>4</th>\n      <td>D5</td>\n      <td>Rain</td>\n      <td>Cool</td>\n      <td>Normal</td>\n      <td>Weak</td>\n      <td>Yes</td>\n    </tr>\n  </tbody>\n</table>\n</div>"
     },
     "execution_count": 5,
     "metadata": {},
     "output_type": "execute_result"
    }
   ],
   "source": [
    "data_df.head()"
   ],
   "metadata": {
    "collapsed": false
   }
  },
  {
   "cell_type": "code",
   "execution_count": null,
   "outputs": [],
   "source": [],
   "metadata": {
    "collapsed": false
   }
  }
 ],
 "metadata": {
  "kernelspec": {
   "display_name": "Python 3",
   "language": "python",
   "name": "python3"
  },
  "language_info": {
   "codemirror_mode": {
    "name": "ipython",
    "version": 2
   },
   "file_extension": ".py",
   "mimetype": "text/x-python",
   "name": "python",
   "nbconvert_exporter": "python",
   "pygments_lexer": "ipython2",
   "version": "2.7.6"
  }
 },
 "nbformat": 4,
 "nbformat_minor": 0
}
