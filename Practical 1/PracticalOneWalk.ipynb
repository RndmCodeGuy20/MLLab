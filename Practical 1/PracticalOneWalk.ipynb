{
 "cells": [
  {
   "cell_type": "code",
   "execution_count": 70,
   "metadata": {
    "pycharm": {
     "name": "#%%\n"
    }
   },
   "outputs": [],
   "source": [
    "import pandas as pd\n",
    "# import numpy as np"
   ]
  },
  {
   "cell_type": "code",
   "execution_count": 71,
   "outputs": [
    {
     "data": {
      "text/plain": "      Time Weather Temperature Company Humidity    Wind Goes\n0  Morning   Sunny        Warm     Yes     Mild  Strong  Yes\n1  Evening   Rainy        Cold      No     Mild  Normal   No\n2  Morning   Sunny    Moderate     Yes   Normal  Normal  Yes\n3  Evening   Sunny        Cold     Yes     High  Strong  Yes",
      "text/html": "<div>\n<style scoped>\n    .dataframe tbody tr th:only-of-type {\n        vertical-align: middle;\n    }\n\n    .dataframe tbody tr th {\n        vertical-align: top;\n    }\n\n    .dataframe thead th {\n        text-align: right;\n    }\n</style>\n<table border=\"1\" class=\"dataframe\">\n  <thead>\n    <tr style=\"text-align: right;\">\n      <th></th>\n      <th>Time</th>\n      <th>Weather</th>\n      <th>Temperature</th>\n      <th>Company</th>\n      <th>Humidity</th>\n      <th>Wind</th>\n      <th>Goes</th>\n    </tr>\n  </thead>\n  <tbody>\n    <tr>\n      <th>0</th>\n      <td>Morning</td>\n      <td>Sunny</td>\n      <td>Warm</td>\n      <td>Yes</td>\n      <td>Mild</td>\n      <td>Strong</td>\n      <td>Yes</td>\n    </tr>\n    <tr>\n      <th>1</th>\n      <td>Evening</td>\n      <td>Rainy</td>\n      <td>Cold</td>\n      <td>No</td>\n      <td>Mild</td>\n      <td>Normal</td>\n      <td>No</td>\n    </tr>\n    <tr>\n      <th>2</th>\n      <td>Morning</td>\n      <td>Sunny</td>\n      <td>Moderate</td>\n      <td>Yes</td>\n      <td>Normal</td>\n      <td>Normal</td>\n      <td>Yes</td>\n    </tr>\n    <tr>\n      <th>3</th>\n      <td>Evening</td>\n      <td>Sunny</td>\n      <td>Cold</td>\n      <td>Yes</td>\n      <td>High</td>\n      <td>Strong</td>\n      <td>Yes</td>\n    </tr>\n  </tbody>\n</table>\n</div>"
     },
     "execution_count": 71,
     "metadata": {},
     "output_type": "execute_result"
    }
   ],
   "source": [
    "walk_df = pd.read_csv('./Assets/data1.csv')\n",
    "\n",
    "walk_df"
   ],
   "metadata": {
    "collapsed": false,
    "pycharm": {
     "name": "#%%\n"
    }
   }
  },
  {
   "cell_type": "code",
   "execution_count": 72,
   "outputs": [
    {
     "data": {
      "text/plain": "      Time Weather Temperature Company Humidity    Wind Goes\n0  Morning   Sunny        Warm     Yes     Mild  Strong  Yes\n2  Morning   Sunny    Moderate     Yes   Normal  Normal  Yes\n3  Evening   Sunny        Cold     Yes     High  Strong  Yes",
      "text/html": "<div>\n<style scoped>\n    .dataframe tbody tr th:only-of-type {\n        vertical-align: middle;\n    }\n\n    .dataframe tbody tr th {\n        vertical-align: top;\n    }\n\n    .dataframe thead th {\n        text-align: right;\n    }\n</style>\n<table border=\"1\" class=\"dataframe\">\n  <thead>\n    <tr style=\"text-align: right;\">\n      <th></th>\n      <th>Time</th>\n      <th>Weather</th>\n      <th>Temperature</th>\n      <th>Company</th>\n      <th>Humidity</th>\n      <th>Wind</th>\n      <th>Goes</th>\n    </tr>\n  </thead>\n  <tbody>\n    <tr>\n      <th>0</th>\n      <td>Morning</td>\n      <td>Sunny</td>\n      <td>Warm</td>\n      <td>Yes</td>\n      <td>Mild</td>\n      <td>Strong</td>\n      <td>Yes</td>\n    </tr>\n    <tr>\n      <th>2</th>\n      <td>Morning</td>\n      <td>Sunny</td>\n      <td>Moderate</td>\n      <td>Yes</td>\n      <td>Normal</td>\n      <td>Normal</td>\n      <td>Yes</td>\n    </tr>\n    <tr>\n      <th>3</th>\n      <td>Evening</td>\n      <td>Sunny</td>\n      <td>Cold</td>\n      <td>Yes</td>\n      <td>High</td>\n      <td>Strong</td>\n      <td>Yes</td>\n    </tr>\n  </tbody>\n</table>\n</div>"
     },
     "execution_count": 72,
     "metadata": {},
     "output_type": "execute_result"
    }
   ],
   "source": [
    "pos_hypo_df = walk_df.loc[walk_df[\"Goes\"] == \"Yes\"]\n",
    "\n",
    "pos_hypo_df"
   ],
   "metadata": {
    "collapsed": false,
    "pycharm": {
     "name": "#%%\n"
    }
   }
  },
  {
   "cell_type": "code",
   "execution_count": 73,
   "outputs": [
    {
     "data": {
      "text/plain": "['Time', 'Weather', 'Temperature', 'Company', 'Humidity', 'Wind']"
     },
     "execution_count": 73,
     "metadata": {},
     "output_type": "execute_result"
    }
   ],
   "source": [
    "attrList = pos_hypo_df.columns.tolist()\n",
    "attrList.pop()\n",
    "attrList"
   ],
   "metadata": {
    "collapsed": false,
    "pycharm": {
     "name": "#%%\n"
    }
   }
  },
  {
   "cell_type": "code",
   "execution_count": 74,
   "outputs": [
    {
     "data": {
      "text/plain": "Time           Morning\nWeather          Sunny\nTemperature       Warm\nCompany            Yes\nHumidity          Mild\nWind            Strong\nName: 0, dtype: object"
     },
     "execution_count": 74,
     "metadata": {},
     "output_type": "execute_result"
    }
   ],
   "source": [
    "Hypo = pos_hypo_df.iloc[0][attrList]\n",
    "Hypo"
   ],
   "metadata": {
    "collapsed": false,
    "pycharm": {
     "name": "#%%\n"
    }
   }
  },
  {
   "cell_type": "code",
   "execution_count": 75,
   "outputs": [],
   "source": [
    "Final_Hypo = []"
   ],
   "metadata": {
    "collapsed": false,
    "pycharm": {
     "name": "#%%\n"
    }
   }
  },
  {
   "cell_type": "code",
   "execution_count": 76,
   "outputs": [
    {
     "data": {
      "text/plain": "int"
     },
     "execution_count": 76,
     "metadata": {},
     "output_type": "execute_result"
    }
   ],
   "source": [
    "type(pos_hypo_df.shape[0])"
   ],
   "metadata": {
    "collapsed": false,
    "pycharm": {
     "name": "#%%\n"
    }
   }
  },
  {
   "cell_type": "code",
   "execution_count": 77,
   "outputs": [
    {
     "name": "stdout",
     "output_type": "stream",
     "text": [
      "Morning Sunny Warm Yes Mild Strong \n",
      "\n",
      "Morning Sunny Moderate Yes Normal Normal \n",
      "\n",
      "Evening Sunny Cold Yes High Strong \n",
      "\n"
     ]
    }
   ],
   "source": [
    "for i in range(pos_hypo_df.shape[0]):\n",
    "    for j in attrList:\n",
    "        # if Hypo[j] != pos_hypo_df.iloc[i][j]:\n",
    "        #     pass\n",
    "        # print(Hypo[j], end=\" \")\n",
    "        print(pos_hypo_df.iloc[i][j], end=\" \")\n",
    "    print(\"\\n\")"
   ],
   "metadata": {
    "collapsed": false,
    "pycharm": {
     "name": "#%%\n"
    }
   }
  },
  {
   "cell_type": "code",
   "execution_count": 83,
   "outputs": [
    {
     "name": "stdout",
     "output_type": "stream",
     "text": [
      "Morning Sunny Warm Yes Mild Strong \n",
      "\n",
      "Morning Sunny ? Yes ? ? \n",
      "\n",
      "? Sunny ? Yes ? ? \n",
      "\n",
      "--------------------\n",
      "Time               ?\n",
      "Weather        Sunny\n",
      "Temperature        ?\n",
      "Company          Yes\n",
      "Humidity           ?\n",
      "Wind               ?\n",
      "Name: 0, dtype: object\n",
      "--------------------\n",
      "\n"
     ]
    }
   ],
   "source": [
    "Hypo = pos_hypo_df.iloc[0][attrList]\n",
    "\n",
    "for i in range(pos_hypo_df.shape[0]):\n",
    "    for j in attrList:\n",
    "        if Hypo[j] != pos_hypo_df.iloc[i][j] and Hypo[j] != \"?\":\n",
    "            Hypo[j] = \"?\"\n",
    "        print(Hypo[j], end=\" \")\n",
    "    print(\"\\n\")\n",
    "\n",
    "print(f\"--------------------\\n{Hypo}\\n--------------------\\n\")"
   ],
   "metadata": {
    "collapsed": false,
    "pycharm": {
     "name": "#%%\n"
    }
   }
  },
  {
   "cell_type": "code",
   "execution_count": null,
   "outputs": [],
   "source": [],
   "metadata": {
    "collapsed": false,
    "pycharm": {
     "name": "#%%\n"
    }
   }
  }
 ],
 "metadata": {
  "kernelspec": {
   "display_name": "Python 3.9.7 64-bit",
   "language": "python",
   "name": "python3"
  },
  "language_info": {
   "name": "python",
   "version": "3.9.7"
  },
  "orig_nbformat": 4,
  "vscode": {
   "interpreter": {
    "hash": "81794d4967e6c3204c66dcd87b604927b115b27c00565d3d43f05ba2f3a2cb0d"
   }
  }
 },
 "nbformat": 4,
 "nbformat_minor": 2
}