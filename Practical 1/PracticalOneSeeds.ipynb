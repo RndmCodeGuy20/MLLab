{
 "cells": [
  {
   "cell_type": "code",
   "execution_count": 7,
   "metadata": {
    "collapsed": true,
    "pycharm": {
     "name": "#%%\n"
    }
   },
   "outputs": [],
   "source": [
    "import pandas as pd\n",
    "# import numpy as np"
   ]
  },
  {
   "cell_type": "code",
   "execution_count": 8,
   "outputs": [
    {
     "data": {
      "text/plain": "    color toughness fungus appearance poisonous\n0   green      hard     no    wrinkle       yes\n1   green      hard    yes     smooth        no\n2   brown      soft     no    wrinkle        no\n3  orange      hard     no    wrinkle       yes\n4   green      soft    yes     smooth       yes\n5   green      hard    yes    wrinkle       yes\n6  orange      hard     no    wrinkle       yes",
      "text/html": "<div>\n<style scoped>\n    .dataframe tbody tr th:only-of-type {\n        vertical-align: middle;\n    }\n\n    .dataframe tbody tr th {\n        vertical-align: top;\n    }\n\n    .dataframe thead th {\n        text-align: right;\n    }\n</style>\n<table border=\"1\" class=\"dataframe\">\n  <thead>\n    <tr style=\"text-align: right;\">\n      <th></th>\n      <th>color</th>\n      <th>toughness</th>\n      <th>fungus</th>\n      <th>appearance</th>\n      <th>poisonous</th>\n    </tr>\n  </thead>\n  <tbody>\n    <tr>\n      <th>0</th>\n      <td>green</td>\n      <td>hard</td>\n      <td>no</td>\n      <td>wrinkle</td>\n      <td>yes</td>\n    </tr>\n    <tr>\n      <th>1</th>\n      <td>green</td>\n      <td>hard</td>\n      <td>yes</td>\n      <td>smooth</td>\n      <td>no</td>\n    </tr>\n    <tr>\n      <th>2</th>\n      <td>brown</td>\n      <td>soft</td>\n      <td>no</td>\n      <td>wrinkle</td>\n      <td>no</td>\n    </tr>\n    <tr>\n      <th>3</th>\n      <td>orange</td>\n      <td>hard</td>\n      <td>no</td>\n      <td>wrinkle</td>\n      <td>yes</td>\n    </tr>\n    <tr>\n      <th>4</th>\n      <td>green</td>\n      <td>soft</td>\n      <td>yes</td>\n      <td>smooth</td>\n      <td>yes</td>\n    </tr>\n    <tr>\n      <th>5</th>\n      <td>green</td>\n      <td>hard</td>\n      <td>yes</td>\n      <td>wrinkle</td>\n      <td>yes</td>\n    </tr>\n    <tr>\n      <th>6</th>\n      <td>orange</td>\n      <td>hard</td>\n      <td>no</td>\n      <td>wrinkle</td>\n      <td>yes</td>\n    </tr>\n  </tbody>\n</table>\n</div>"
     },
     "execution_count": 8,
     "metadata": {},
     "output_type": "execute_result"
    }
   ],
   "source": [
    "seed_df = pd.read_csv(\"./Assets/final data.csv\")\n",
    "seed_df"
   ],
   "metadata": {
    "collapsed": false,
    "pycharm": {
     "name": "#%%\n"
    }
   }
  },
  {
   "cell_type": "code",
   "execution_count": 9,
   "outputs": [
    {
     "data": {
      "text/plain": "    color toughness fungus appearance poisonous\n0   green      hard     no    wrinkle       yes\n3  orange      hard     no    wrinkle       yes\n4   green      soft    yes     smooth       yes\n5   green      hard    yes    wrinkle       yes\n6  orange      hard     no    wrinkle       yes",
      "text/html": "<div>\n<style scoped>\n    .dataframe tbody tr th:only-of-type {\n        vertical-align: middle;\n    }\n\n    .dataframe tbody tr th {\n        vertical-align: top;\n    }\n\n    .dataframe thead th {\n        text-align: right;\n    }\n</style>\n<table border=\"1\" class=\"dataframe\">\n  <thead>\n    <tr style=\"text-align: right;\">\n      <th></th>\n      <th>color</th>\n      <th>toughness</th>\n      <th>fungus</th>\n      <th>appearance</th>\n      <th>poisonous</th>\n    </tr>\n  </thead>\n  <tbody>\n    <tr>\n      <th>0</th>\n      <td>green</td>\n      <td>hard</td>\n      <td>no</td>\n      <td>wrinkle</td>\n      <td>yes</td>\n    </tr>\n    <tr>\n      <th>3</th>\n      <td>orange</td>\n      <td>hard</td>\n      <td>no</td>\n      <td>wrinkle</td>\n      <td>yes</td>\n    </tr>\n    <tr>\n      <th>4</th>\n      <td>green</td>\n      <td>soft</td>\n      <td>yes</td>\n      <td>smooth</td>\n      <td>yes</td>\n    </tr>\n    <tr>\n      <th>5</th>\n      <td>green</td>\n      <td>hard</td>\n      <td>yes</td>\n      <td>wrinkle</td>\n      <td>yes</td>\n    </tr>\n    <tr>\n      <th>6</th>\n      <td>orange</td>\n      <td>hard</td>\n      <td>no</td>\n      <td>wrinkle</td>\n      <td>yes</td>\n    </tr>\n  </tbody>\n</table>\n</div>"
     },
     "execution_count": 9,
     "metadata": {},
     "output_type": "execute_result"
    }
   ],
   "source": [
    "pos_seed_df = seed_df.loc[seed_df[\"poisonous\"] == \"yes\"]\n",
    "pos_seed_df"
   ],
   "metadata": {
    "collapsed": false,
    "pycharm": {
     "name": "#%%\n"
    }
   }
  },
  {
   "cell_type": "code",
   "execution_count": 10,
   "outputs": [
    {
     "data": {
      "text/plain": "['color', 'toughness', 'fungus', 'appearance']"
     },
     "execution_count": 10,
     "metadata": {},
     "output_type": "execute_result"
    }
   ],
   "source": [
    "attrList = pos_seed_df.columns.to_list()\n",
    "attrList.pop()\n",
    "attrList"
   ],
   "metadata": {
    "collapsed": false,
    "pycharm": {
     "name": "#%%\n"
    }
   }
  },
  {
   "cell_type": "code",
   "execution_count": 11,
   "outputs": [
    {
     "data": {
      "text/plain": "color           green\ntoughness        hard\nfungus             no\nappearance    wrinkle\nName: 0, dtype: object"
     },
     "execution_count": 11,
     "metadata": {},
     "output_type": "execute_result"
    }
   ],
   "source": [
    "Hypo = pos_seed_df.iloc[0][attrList]\n",
    "Hypo"
   ],
   "metadata": {
    "collapsed": false,
    "pycharm": {
     "name": "#%%\n"
    }
   }
  },
  {
   "cell_type": "code",
   "execution_count": 12,
   "outputs": [
    {
     "name": "stdout",
     "output_type": "stream",
     "text": [
      "green hard no wrinkle \n",
      "\n",
      "? hard no wrinkle \n",
      "\n",
      "? ? ? ? \n",
      "\n",
      "? ? ? ? \n",
      "\n",
      "? ? ? ? \n",
      "\n",
      "color         ?\n",
      "toughness     ?\n",
      "fungus        ?\n",
      "appearance    ?\n",
      "Name: 0, dtype: object\n"
     ]
    }
   ],
   "source": [
    "Hypo = pos_seed_df.iloc[0][attrList]\n",
    "\n",
    "for i in range(pos_seed_df.shape[0]):\n",
    "    for j in attrList:\n",
    "        if Hypo[j] != pos_seed_df.iloc[i][j] and Hypo[j] != \"?\":\n",
    "            Hypo[j] = \"?\"\n",
    "        print(Hypo[j], end=\" \")\n",
    "    print(\"\\n\")\n",
    "\n",
    "print(Hypo)"
   ],
   "metadata": {
    "collapsed": false,
    "pycharm": {
     "name": "#%%\n"
    }
   }
  }
 ],
 "metadata": {
  "kernelspec": {
   "display_name": "Python 3",
   "language": "python",
   "name": "python3"
  },
  "language_info": {
   "codemirror_mode": {
    "name": "ipython",
    "version": 2
   },
   "file_extension": ".py",
   "mimetype": "text/x-python",
   "name": "python",
   "nbconvert_exporter": "python",
   "pygments_lexer": "ipython2",
   "version": "2.7.6"
  }
 },
 "nbformat": 4,
 "nbformat_minor": 0
}